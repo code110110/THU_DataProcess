{
 "cells": [
  {
   "cell_type": "code",
   "execution_count": 2,
   "metadata": {},
   "outputs": [],
   "source": [
    "import xml.etree.ElementTree as ET\n",
    "import json\n",
    "# 读取XML文件\n",
    "tree = ET.parse('/extend/zsy/pic_match/train04.xml')\n",
    "root = tree.getroot()\n",
    "\n",
    "# 创建空列表来保存提取的信息\n",
    "extracted_data = []\n",
    "\n",
    "# 遍历XML文件中的每个<points>元素\n",
    "for points_element in root.findall(\".//points\"):\n",
    "    # 提取相关属性\n",
    "    name = root.get(\"name\")\n",
    "    points_label = points_element.get(\"label\")\n",
    "    points = points_element.get(\"points\")\n",
    "    \n",
    "    # 将提取的信息保存为字典形式\n",
    "    data_dict = {\n",
    "        \"Name\": name,\n",
    "        \"Points Label\": points_label,\n",
    "        \"Points\": points\n",
    "    }\n",
    "\n",
    "    # 将字典添加到列表中\n",
    "    extracted_data.append(data_dict)\n",
    "\n",
    "# 打印保存的信息（可选）\n",
    "# print(extracted_data)\n",
    "\n",
    "# 如果你想要将提取的信息保存到文件中，可以使用以下代码将信息写入到JSON文件\n",
    "with open('output04.json', 'w') as json_file:\n",
    "    json.dump(extracted_data, json_file)\n",
    "import json\n",
    "import numpy as np\n",
    "# 读取JSON文件\n",
    "with open('output04.json', 'r') as json_file:\n",
    "    data = json.load(json_file)\n",
    "\n",
    "# 创建一个字典用于组织数据\n",
    "grouped_data = {}\n",
    "\n",
    "# 遍历JSON数据\n",
    "for item in data:\n",
    "    points_label = item[\"Points Label\"]\n",
    "    points = item[\"Points\"]\n",
    "    \n",
    "    # 如果该Points Label已存在，将Points添加到现有列表中\n",
    "    if points_label in grouped_data:\n",
    "        grouped_data[points_label].append(points.split(','))\n",
    "    else:\n",
    "        # 如果Points Label不存在，创建一个新列表\n",
    "        grouped_data[points_label] = [points.split(',')]\n",
    "\n",
    "# 将结果转换为列表形式\n",
    "result = [v for v in grouped_data.values()]\n",
    "data04 = np.array(result)\n",
    "# 访问第二层中的所有第一个子列表\n",
    "# second_layer_first_sublists = data[:, 0, :]\n",
    "# 打印或保存结果\n",
    "# print(np.array(second_layer_first_sublists))\n",
    "rgb_data_04=data04[:, 0, :].astype(float)\n",
    "gray_data_04=data04[:, 1, :].astype(float)"
   ]
  },
  {
   "cell_type": "code",
   "execution_count": null,
   "metadata": {},
   "outputs": [],
   "source": [
    "gray_data_04"
   ]
  }
 ],
 "metadata": {
  "kernelspec": {
   "display_name": "ML",
   "language": "python",
   "name": "python3"
  },
  "language_info": {
   "codemirror_mode": {
    "name": "ipython",
    "version": 3
   },
   "file_extension": ".py",
   "mimetype": "text/x-python",
   "name": "python",
   "nbconvert_exporter": "python",
   "pygments_lexer": "ipython3",
   "version": "3.8.0"
  }
 },
 "nbformat": 4,
 "nbformat_minor": 2
}
